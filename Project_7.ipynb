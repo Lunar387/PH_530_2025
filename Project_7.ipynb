{
  "cells": [
    {
      "cell_type": "markdown",
      "id": "64e89a51-3f06-461f-a744-acee2cd07aab",
      "metadata": {
        "id": "64e89a51-3f06-461f-a744-acee2cd07aab"
      },
      "source": [
        "<center>\n",
        "    <h1> LIGHT MATTER INTERACTION (PH 530)</h1>\n",
        "    <h1>PROJECT REPORT </h1>\n",
        "</center>\n",
        "<div style=\"text-align: center\"> <b>Advisor &rarr; Prof. Anshuman Kumar</b> </div>"
      ]
    },
    {
      "cell_type": "markdown",
      "id": "fcabd563-10ab-459c-870f-cd3e5f7dfebb",
      "metadata": {
        "id": "fcabd563-10ab-459c-870f-cd3e5f7dfebb"
      },
      "source": [
        "<center>\n",
        "    <b>\n",
        "        GROUP-7 <br>\n",
        "        Amit Yadav (23N0302), Rohit Tomar (23N0300), Ashraf Joya (23N0277), Menapati Nepolian (23N0280), Kishan Prajapat (23N0287)\n",
        "    </b>\n",
        "    \n",
        "</center>"
      ]
    },
    {
      "cell_type": "markdown",
      "id": "e6bb8e92-9da5-45a3-bca4-9cdc12f42a7d",
      "metadata": {
        "id": "e6bb8e92-9da5-45a3-bca4-9cdc12f42a7d"
      },
      "source": [
        "## Quantum Light Interacting with Beam Splitters and Interferometers"
      ]
    },
    {
      "cell_type": "markdown",
      "id": "5c5bf3b5-4efc-4d90-9dde-640fcfb7a5f0",
      "metadata": {
        "id": "5c5bf3b5-4efc-4d90-9dde-640fcfb7a5f0"
      },
      "source": [
        "### Beam Splitters\n",
        "A beam splitter is an optical device that divides an incoming beam of light into two separate beams. It is a fundamental component in quantum optics, interferometry, and many optical experiments."
      ]
    },
    {
      "cell_type": "markdown",
      "id": "f74cc143-cb92-4685-ac1c-3aa94320cd7c",
      "metadata": {
        "id": "f74cc143-cb92-4685-ac1c-3aa94320cd7c"
      },
      "source": [
        "### Interferometers\n",
        "An interferometer is an optical instrument that splits a beam of light into two or more parts, directs them along different paths, and then recombines them. When the beams meet again, they interfere with each other, creating patterns of light and dark fringes. These interference patterns can be analyzed to measure very small differences in distance, changes in refractive index, or other physical properties. Interferometers are used in a wide range of applications, from fundamental physics experiments and gravitational wave detection to precision engineering and metrology."
      ]
    },
    {
      "cell_type": "markdown",
      "id": "300abab0-fc42-40e9-8a8c-c4c154994de0",
      "metadata": {
        "id": "300abab0-fc42-40e9-8a8c-c4c154994de0"
      },
      "source": [
        "### Experiments with Single Photons\n",
        "In Quantum Optics we talk about photons. But what is the evidence of photons?  \n",
        "There are two phenomenon which provides indirect evidence for the presence of photons, **Photoelectric Effect** and **Compton Effect**.  \n",
        "We can explain most of the aspects of Photoelectric Effect and Compton Effect using Semi-classical theory in which the light is treated classically,\n",
        "meanwhile the electrons are in quantized energy states i.e, the atoms are quantized.  "
      ]
    },
    {
      "cell_type": "markdown",
      "id": "f9d447d7-42b3-419c-8f10-b78eec775a34",
      "metadata": {
        "id": "f9d447d7-42b3-419c-8f10-b78eec775a34"
      },
      "source": [
        "In 1986 Taylor performed an experiment in an attempt to obtain quantum effects with light. He obtained interference fringes with an extremely weak source of light. When he continuously attenuated the source stength, even then he found out fringes. We could argue that at very high attenuation levels, there was at most only one photon at a time between the source and the screen. He thought photons passing by the slit one at a time give rise to interference. Dirac famously said \"Each photon interferes with itself, interference between two photons doesn't occur\".  "
      ]
    },
    {
      "cell_type": "markdown",
      "id": "c980ff33-aa3a-45e3-8b95-872a43031f74",
      "metadata": {
        "id": "c980ff33-aa3a-45e3-8b95-872a43031f74"
      },
      "source": [
        "But Taylor used a thermal source of light, and this source doesn't produce photons one-at-a-time but rather produces them in bunches. Therefore, there is a strong chance that there are two photons present at any given time between the source and the screen. This effect is called **Photon Bunching**.  \n",
        "Generally, a laser source produces photons randomly, so even at high attenuation levels, there is some chance that there are more than one photon present between source and screen. Now, to get a single photon between source and screen, requires an **anti-bunched photon** source. This requires a source consisting of only a few atoms, ideally a single atom."
      ]
    },
    {
      "cell_type": "markdown",
      "id": "09b1f84f-eeb6-40e3-8ef4-c3f8e2ffa065",
      "metadata": {
        "id": "09b1f84f-eeb6-40e3-8ef4-c3f8e2ffa065"
      },
      "source": [
        "### Grangier's and others Anti-Correlation Experiment (1986)"
      ]
    },
    {
      "cell_type": "markdown",
      "id": "d94e4fb1-5f0a-423d-ad08-3c819f6080b1",
      "metadata": {
        "id": "d94e4fb1-5f0a-423d-ad08-3c819f6080b1"
      },
      "source": [
        "Grangier and others developed a **single photon source**.  \n",
        "In their source, a Calcium atom was irradiated by a laser, which excites the atoms to a high-lying s-state. The s-state undergoes a rapid decay to a p-state emitting a photon of frequency $\\nu1$. The atom undergoes another rapid decay, this time to the ground state by emitting a second photon, this one having frequency $\\nu2$.  \n",
        "The Photons are emitted in opposite directions, to conserve the momentum."
      ]
    },
    {
      "cell_type": "markdown",
      "id": "e61a103a-6d97-49a7-8d4f-8f546114ff51",
      "metadata": {
        "id": "e61a103a-6d97-49a7-8d4f-8f546114ff51"
      },
      "source": [
        "![Screenshot 2025-03-30 134247.png](attachment:4099ca42-12b5-4f45-a685-3ca3667fab20.png)\n",
        "##### Figure 1. Energy-level diagram of the single photon source for the experiments of Grangier et al."
      ]
    },
    {
      "cell_type": "markdown",
      "id": "24a14971-52da-4f35-b2d5-e236de3caadb",
      "metadata": {
        "id": "24a14971-52da-4f35-b2d5-e236de3caadb"
      },
      "source": [
        "Grangier’s experiment was designed to test a key idea in quantum physics: that light is made up of tiny, indivisible packets called photons. In everyday life, light seems continuous (like a wave), but at the quantum level, it behaves like individual particles. The experiment shows that when a single photon reaches a special mirror (a beam splitter), it cannot split and appear in two places at once."
      ]
    },
    {
      "cell_type": "markdown",
      "id": "6443ccf2-a6f5-4b5f-b5d4-44a0b322917f",
      "metadata": {
        "id": "6443ccf2-a6f5-4b5f-b5d4-44a0b322917f"
      },
      "source": [
        "In this experiment, the first photon detected by $D_{trig}$ is used as \"trigger\" to alert a set of photodetectors placed at the outputs of a $50:50$ beam splitter. $D_{ref}$ detects the reflected photon while $D_{tran}$ detects the transmitted photon. The \"trigger\" tells the photodetectors to expect a photon to emerge from the beam splitter by gating the detection electronics for a brief time interval. This eliminates spurious counts."
      ]
    },
    {
      "cell_type": "markdown",
      "id": "97a16349-6ce9-4ba5-ab35-407522ba257a",
      "metadata": {
        "id": "97a16349-6ce9-4ba5-ab35-407522ba257a"
      },
      "source": [
        "![Screenshot 2025-03-30 134504.png](attachment:aab5ee7f-0b8d-495f-b09a-b3f271a9ea8c.png)\n",
        "##### Figure 2. Anti-Correlation Experiment of Grangier et al."
      ]
    },
    {
      "cell_type": "markdown",
      "id": "5c4a1623-6119-4e01-8bce-db3defb9e8b5",
      "metadata": {
        "id": "5c4a1623-6119-4e01-8bce-db3defb9e8b5"
      },
      "source": [
        "Now when the second photon reaches the beam-splitter, according to classical ideas, one might expect the photon to split into two parts and be detected by both detectors at the same time. But the two detectors never click simultaneously. When one detector clicks the other doesn't. This is known as **Anti-Correlation**. Because we have a $50:50$ beam splitter, repeated runs of the experiment should result in each of the detectors firing approximately $50\\%$ of the time."
      ]
    },
    {
      "cell_type": "markdown",
      "id": "ca0bc6da-51c4-4e88-a395-8a18780432b4",
      "metadata": {
        "id": "ca0bc6da-51c4-4e88-a395-8a18780432b4"
      },
      "source": [
        "Thus, Grangier's experiment used a special single-photon source, a beam splitter, and two detectors to show that when a single photon is sent to the beam splitter, it does not split into parts. Instead, the photon is detected in one place only, proving its **indivisible**, **particle-like** nature. This result is a fundamental demonstration of quantum mechanics and has had lasting implications for both our understanding of light and the development of quantum technologies."
      ]
    },
    {
      "cell_type": "markdown",
      "id": "29572d5f-13cc-46e4-acca-26b393bcd5cc",
      "metadata": {
        "id": "29572d5f-13cc-46e4-acca-26b393bcd5cc"
      },
      "source": [
        "### Quantum Mechanics of Beam Splitters"
      ]
    },
    {
      "cell_type": "markdown",
      "id": "13573342-88d6-4325-befc-d963d2b0a6c4",
      "metadata": {
        "id": "13573342-88d6-4325-befc-d963d2b0a6c4"
      },
      "source": [
        "![Screenshot 2025-03-30 134721.png](attachment:e709e3a0-79bd-4ada-92d5-189d760b19bd.png)\n",
        "##### Figure 3.  A classical field of amplitude $E_1$ is split into fields of amplitudes $E_2$ and $E_3$."
      ]
    },
    {
      "cell_type": "markdown",
      "id": "27f53a9e-d1fe-4820-87a3-45bb52862cc4",
      "metadata": {
        "id": "27f53a9e-d1fe-4820-87a3-45bb52862cc4"
      },
      "source": [
        "In this Section, we will see beam splitters in fully quantum mechanical context.For classical like beams, coherent and thermal beams the quantum and classical treatment of beam splitters agree. At the level of single or few photons, the classical approach of beam splitters produces erroneous and quite misleading results.  \n",
        "##### How classical treatment of beam splitter is wrong for a single photon ?  \n",
        "- Let's consider a classical light field of amplitude $E_1$ incident upon a lossless beam splitter.\n",
        "- $E_2$ and $E_3$ are the amplitudes of reflected and transmitted beams respectively. $r$ and $t$ are reflectance and transmittance of beam splitter.\n",
        "- Now, we have\n",
        "\n",
        "\\begin{equation}\n",
        "E_{2} = r\\,E_{1}\n",
        "\\tag{1}\n",
        "\\quad \\text{and} \\quad\n",
        "E_{3} = t\\,E_{1}\n",
        "\\end{equation}\n",
        "\n",
        "\\begin{equation}\n",
        "|E_{1}|^{2} = |E_{2}|^{2} + |E_{3}|^{2}\n",
        "\\tag{2}\n",
        "\\end{equation}\n",
        "\n",
        "\\begin{equation}\n",
        "|r|^{2} + |t|^{2} = 1\n",
        "\\tag{3}\n",
        "\\end{equation}"
      ]
    },
    {
      "cell_type": "markdown",
      "id": "2776a0f5-a68b-4812-a2ae-7ff45c577dd8",
      "metadata": {
        "id": "2776a0f5-a68b-4812-a2ae-7ff45c577dd8"
      },
      "source": [
        "![Screenshot 2025-03-30 134738.png](attachment:9232fb06-d8d2-4658-bfb7-cd2ab73e3ba0.png)\n",
        "##### Figure 4. Naive, and incorrect, quantum mechanical depiction of a beam splitter"
      ]
    },
    {
      "cell_type": "markdown",
      "id": "fa8901f6-d8f7-4f3c-beab-e185dfd79217",
      "metadata": {
        "id": "fa8901f6-d8f7-4f3c-beab-e185dfd79217"
      },
      "source": [
        "Now treating beam splitter quantum mechanically, we must try replacing complex field amplitued $E_i$ by a set of **annihilation** operators ($\\hat{a_i}, i = 1, 2, 3...$).\n",
        "\\begin{equation}\n",
        "\\hat{a}_2 = r \\,\\hat{a}_1,\n",
        "\\tag{4}\n",
        "\\quad\n",
        "\\hat{a}_3 = t \\,\\hat{a}_1.\n",
        "\\end{equation}\n",
        "\n",
        "\\begin{align}\n",
        "[\\hat{a}_i, \\hat{a}_j^\\dagger] &= \\delta_{ij}\n",
        "\\tag{5}\n",
        "\\quad i,j = 1,2,3 \\\\\n",
        "[\\hat{a}_i, \\hat{a}_j] &= 0\n",
        "\\tag{6}\n",
        "\\quad i,j = 1,2,3.\n",
        "\\end{align}\n",
        "\n",
        "\\begin{align}\n",
        "\\tag{7}\n",
        "[\\hat{a}_2, \\hat{a}_2^\\dagger] &= |r|^2 \\\\\n",
        "\\tag{8}\n",
        "[\\hat{a}_3, \\hat{a}_3^\\dagger] &= |t|^2 \\\\\n",
        "\\tag{9}\n",
        "[\\hat{a}_2, \\hat{a}_3^\\dagger] &= r \\ t^*.\n",
        "\\end{align}\n",
        "Classically ${(7)}$ and ${(8)}$ equals to 1 and ${(9)}$ is non zero.  \n",
        "Transformation equation ${(4)}$ doesn't preserve the commutation realtions, so it can't provide correct quantum description of beam splitters."
      ]
    },
    {
      "cell_type": "markdown",
      "id": "579f87d3-cc8d-43d6-be75-9943501ccbdf",
      "metadata": {
        "id": "579f87d3-cc8d-43d6-be75-9943501ccbdf"
      },
      "source": [
        "##### It is resolved as follows:-  \n",
        "- In the classical picture of beam splitter there is an unused **port** which being empty of an input field has no effect on output field.\n",
        "- However, in quantum picture the unused **port** still contains a quantized field mode albeit in the vacuum state.\n",
        "- Fluctuations of the vacuum field lead to important physical effects."
      ]
    },
    {
      "cell_type": "markdown",
      "id": "25e7aa30-1b07-4f97-a161-95e7f5f06367",
      "metadata": {
        "id": "25e7aa30-1b07-4f97-a161-95e7f5f06367"
      },
      "source": [
        "- ${\\hat{a_0}}$ &rarr; field operator of classically vacant input mode  \n",
        "- There are two sets of transmittances and reflectances, allowing for the possibility of an\n",
        "asymmetric beam splitter.\n",
        "- Rewriting transformation equations quantum mechanically and using commutation relations, we get-"
      ]
    },
    {
      "cell_type": "markdown",
      "id": "520b47d7-cc85-441e-acb8-da457fa785ca",
      "metadata": {
        "id": "520b47d7-cc85-441e-acb8-da457fa785ca"
      },
      "source": [
        "![Screenshot 2025-03-30 134749.png](attachment:2778e2e9-0efa-4f7b-8e5d-0d260188e946.png)\n",
        "##### Figure 5. The correct quantum-mechanical depiction of a beam splitter"
      ]
    },
    {
      "cell_type": "markdown",
      "id": "fd464f61-9da5-4b5c-a291-9bbbdf6fead9",
      "metadata": {
        "id": "fd464f61-9da5-4b5c-a291-9bbbdf6fead9"
      },
      "source": [
        "\\begin{align}\n",
        "\\hat{a}_2 &= r\\hat{a}_1 + t'\\hat{a}_0, \\quad \\hat{a}_3 = t\\hat{a}_1 + r'\\hat{a}_0 \\tag{10} \\\\\n",
        "\\\\\n",
        "\\begin{pmatrix}\n",
        "\\hat{a}_2 \\\\\n",
        "\\hat{a}_3\n",
        "\\end{pmatrix} &=\n",
        "\\begin{pmatrix}\n",
        "t' & r \\\\\n",
        "r' & t\n",
        "\\end{pmatrix}\n",
        "\\begin{pmatrix}\n",
        "\\hat{a}_0 \\\\\n",
        "\\hat{a}_1\n",
        "\\end{pmatrix}. \\tag{11} \\\\\n",
        "\\\\\n",
        "|r'| &= |r|, \\, |t| = |t'|, \\, |r|^2 + |t|^2 = 1 \\tag{12} \\\\\n",
        "\\\\\n",
        "r^*t' + r't^* &= 0,  r^*t + r't'^* = 0. \\tag{13} \\\\\n",
        "\\\\\n",
        "\\end{align}\n",
        "Equation ${(12)}$ and ${(13)}$ are known as **reciprocity** relations."
      ]
    },
    {
      "cell_type": "markdown",
      "id": "0c47a948-615b-43df-93df-ec0576e69b89",
      "metadata": {
        "id": "0c47a948-615b-43df-93df-ec0576e69b89"
      },
      "source": [
        "- The phase shift of reflected and transmitted beams depend on the construction of the beam splitter.\n",
        "- For single dielectric layer, phase shift is $\\pi/2$ which is $e^{\\pm\\iota\\pi/2}$ = $\\pm\\iota$.\n",
        "- For $50:50$ beam splitter phase shift is $\\pi/2$ and $|r| = 1/\\sqrt2$, $|t| = 1/\\sqrt2$."
      ]
    },
    {
      "cell_type": "markdown",
      "id": "78c47ec3-9f95-4ec6-9638-6bc69f620929",
      "metadata": {
        "id": "78c47ec3-9f95-4ec6-9638-6bc69f620929"
      },
      "source": [
        "- For a $50:50$ beam splitter we have,\n",
        "\\begin{align*}\n",
        "\\hat{a}_2 &= \\frac{1}{\\sqrt{2}} (\\hat{a}_0 + i\\hat{a}_1), \\quad \\hat{a}_3 = \\frac{1}{\\sqrt{2}} (i\\hat{a}_0 + \\hat{a}_1). \\tag{14} \\\\\n",
        "\\\\\n",
        "\\begin{pmatrix}\n",
        "\\hat{a}_2 \\\\\n",
        "\\hat{a}_3\n",
        "\\end{pmatrix} &= \\hat{U}^\\dagger \\begin{pmatrix}\n",
        "\\hat{a}_0 \\\\\n",
        "\\hat{a}_1\n",
        "\\end{pmatrix} \\hat{U} \\tag{15} \\\\\n",
        "\\\\\n",
        "\\hat{U} &= \\exp \\left[ i \\frac{\\pi}{4} \\left( \\hat{a}_0^\\dagger \\hat{a}_1 + \\hat{a}_0 \\hat{a}_1^\\dagger \\right) \\right], \\tag{16} \\\\\n",
        "\\\\\n",
        "\\end{align*}\n",
        "$\\hat{U}$ is a **Unitary** operator for the beam splitter. We can check that equation ${(15)}$ is correct using the **Baker-Campbell-Hausdorf** lemma."
      ]
    },
    {
      "cell_type": "markdown",
      "id": "bcaec0e2-8798-441f-ac6f-b0a5aef73826",
      "metadata": {
        "id": "bcaec0e2-8798-441f-ac6f-b0a5aef73826"
      },
      "source": [
        "Using Schrodinger's picture,  \n",
        "- photon state is $|n\\rangle$\n",
        "- this can be created using n powers of creation operator on the vacuum state.\n",
        "- when input is vacuum, we get output as vacuum.\n",
        "- $|0\\rangle_0|0\\rangle_1$ &rarr; $|0\\rangle_2|0\\rangle_3$  \n",
        "  Taking an example, assuming we have a single photon at one of the input ports (port 1), we have to find the photon state at the output port.\n",
        "  \\begin{align*}\n",
        "|0\\rangle_0|1\\rangle_1 \\text{ which we may write as } \\hat{a}_1^\\dagger |0\\rangle_0|0\\rangle_1. \\\\\n",
        " \\hat{a}_1^\\dagger = (i \\hat{a}_2^\\dagger + \\hat{a}_3^\\dagger)/\\sqrt{2}. \\\\\n",
        "\\\\\n",
        " |0\\rangle_0|0\\rangle_1 \\xrightarrow{\\text{BS}} |0\\rangle_2|0\\rangle_3, \\\\\n",
        "|0\\rangle_0|1\\rangle_1 &\\xrightarrow{\\text{BS}} \\frac{1}{\\sqrt{2}} \\left( i \\hat{a}_2^\\dagger + \\hat{a}_3^\\dagger \\right) |0\\rangle_2|0\\rangle_3 \\\\\n",
        "&= \\frac{1}{\\sqrt{2}} \\left( i |1\\rangle_2 |0\\rangle_3 + |0\\rangle_2 |1\\rangle_3 \\right). \\tag{17}\n",
        "\\end{align*}\n",
        "#### Important Result  \n",
        "- When a single photon is incident at one of the input ports of the beam splitter and the other port contains only vacuum state, the photon will be either transmitted or reflected with equal probability."
      ]
    },
    {
      "cell_type": "markdown",
      "id": "5e77c134-6968-4ff9-a38c-32ffad6d9471",
      "metadata": {
        "id": "5e77c134-6968-4ff9-a38c-32ffad6d9471"
      },
      "source": [
        "Beam splitter is a passive device that neither creates nor destroys photons.  \n",
        "Quantum states described by state vectors are said to be pure states. States that can't be described by state vectors are said to in mixed states. These are described by density operator.  \n",
        "Equation ${(17)}$ describes an **entangled state**. It can't be represented as a simple product of states of the individual modes 2 and 3.  \n",
        "Now we know that,\n",
        "\\begin{equation}\n",
        "\\hat{\\rho} = \\sum_{i} |\\psi_i\\rangle p_i \\langle\\psi_i| = \\sum_{i} p_i |\\psi_i\\rangle \\langle\\psi_i|, \\tag{18}\n",
        "\\end{equation}\n",
        "\\begin{align*}\n",
        "\\hat{\\rho}_{23} &= \\frac{1}{2} \\big\\{ |1\\rangle_2 |0\\rangle_3 {}_2\\langle 1| {}_3\\langle 0| + |0\\rangle_2 |1\\rangle_3 {}_2\\langle 0| {}_3\\langle 1| + i |1\\rangle_2 |0\\rangle_3 {}_2\\langle 0| {}_3\\langle 1| - i |0\\rangle_2 |1\\rangle_3 {}_2\\langle 1| {}_3\\langle 0| \\big\\}. \\tag{19} \\\\\n",
        "\\\\\n",
        "\\end{align*}\n",
        "Suppose there is no detector at mode 3, then reduced density operator is obtained by tracing over states of unmeasured mode (mode 3), which is described in equation ${(20)}$.\n",
        "\\begin{align*}\n",
        "\\hat{\\rho}_2 &= \\text{Tr}_3 \\hat{\\rho}_{23} = \\sum_{n=0}^{\\infty} {}_3\\langle n| \\hat{\\rho}_{23} |n\\rangle_3 \\\\\n",
        "&= \\frac{1}{2} \\left( |0\\rangle_2 {}_2\\langle 0| + |1\\rangle_2 {}_2\\langle 1| \\right). \\tag{20}\n",
        "\\end{align*}\n",
        "\n",
        "The above equation merely represents a statistical mixture. There are no **off-diagonal** coherence terms of the form $|0\\rangle\\langle1|$ or $|1\\rangle\\langle0|$.  \n",
        "Thus, placing a detector in only one of the output modes yield result 0 or 1, each $50\\%$ of the time."
      ]
    },
    {
      "cell_type": "markdown",
      "id": "086aa38e-4b8e-4398-ac1e-b5c1432cce4f",
      "metadata": {
        "id": "086aa38e-4b8e-4398-ac1e-b5c1432cce4f"
      },
      "source": [
        "#### Coherent State on one of the input mode and vacuum on the other input mode\n",
        "\n",
        "- We have, the initial state as $|0\\rangle_0|\\alpha\\rangle_1 = \\hat{D}_1(\\alpha)|0\\rangle_0|0\\rangle_1$ where $\\hat{D}_1(\\alpha) = \\exp(\\alpha\\hat{a}_1^\\dagger - \\alpha^*\\hat{a}_1)$ is the displacement operator for mode 1. After solving, we get-\n",
        "\n",
        "\\begin{align*}\n",
        "|0\\rangle_0 |\\alpha\\rangle_1 &\\xrightarrow{\\text{BS}} \\exp\\left[ \\frac{\\alpha}{\\sqrt{2}}\\left(i\\hat{a}_2^\\dagger + \\hat{a}_3^\\dagger\\right) - \\frac{\\alpha^*}{\\sqrt{2}}(-i\\hat{a}_2 + \\hat{a}_3)\\right] |0\\rangle_2 |0\\rangle_3 \\\\\n",
        "&= \\exp\\left[\\left(\\frac{i\\alpha}{\\sqrt{2}}\\right)\\hat{a}_2^\\dagger - \\left(\\frac{-i\\alpha^*}{\\sqrt{2}}\\right)\\hat{a}_2\\right]\\exp\\left[\\left(\\frac{\\alpha}{\\sqrt{2}}\\right)\\hat{a}_3^\\dagger - \\left(\\frac{\\alpha^*}{\\sqrt{2}}\\right)\\hat{a}_3\\right] |0\\rangle_2 |0\\rangle_3 \\\\\n",
        "&= \\left|\\frac{i\\alpha}{\\sqrt{2}}\\right\\rangle_2 \\left|\\frac{\\alpha}{\\sqrt{2}}\\right\\rangle_3. \\tag{21}\n",
        "\\end{align*}\n",
        "- Evidentally, we obtained the result expected for a classical light wave where the incident intensity is evenly divided between the output beams.\n",
        "- Half of the incident average photon number ${|\\alpha|^2} / 2$ at each mode.\n",
        "- We got phase shift of $e^{\\iota\\pi/2}$ = $\\iota$ for the reflected wave.\n",
        "- The output here in this case is not an **entangled** state."
      ]
    },
    {
      "cell_type": "markdown",
      "id": "9d669dc7-da9a-488d-8e2d-687d5ccfb559",
      "metadata": {
        "id": "9d669dc7-da9a-488d-8e2d-687d5ccfb559"
      },
      "source": [
        "- Beam Splitting with **Coherent** states is **Classical**.\n",
        "- Single photon beam splitting can't be obtained using limiting case for small $|\\alpha|$ on incident coherent state.\n",
        "- Single photon output is **entangled**.\n",
        "- Coherent state output is **not entangled**."
      ]
    },
    {
      "cell_type": "markdown",
      "id": "75639d61-7c9c-4daa-b4f4-bad825601676",
      "metadata": {
        "id": "75639d61-7c9c-4daa-b4f4-bad825601676"
      },
      "source": [
        "Now consider a situation where single photons are simultaneously injected into the two input ports of $50:50$ beam splitter.  \n",
        "The incident state being $|1\\rangle_0|1\\rangle_1 = \\hat{a}_0^\\dagger\\hat{a}_1^\\dagger|0\\rangle_0|0\\rangle_1$. Again, following the previous procedure with $\\hat{a}_0^\\dagger = (\\hat{a}_2^\\dagger + i\\hat{a}_3^\\dagger)/\\sqrt{2}$ and $\\hat{a}_1^\\dagger = (i\\hat{a}_2^\\dagger + \\hat{a}_3^\\dagger)/\\sqrt{2}$ we have\n",
        "\n",
        "\\begin{align*}\n",
        "|1\\rangle_0|1\\rangle_1 &\\xrightarrow{\\text{BS}} \\frac{1}{2} \\left( \\hat{a}_2^\\dagger + i\\hat{a}_3^\\dagger \\right) \\left( i\\hat{a}_2^\\dagger + \\hat{a}_3^\\dagger \\right)|0\\rangle_2|0\\rangle_3 \\\\\n",
        "&= \\frac{i}{2} \\left( \\hat{a}_2^\\dagger\\hat{a}_2^\\dagger + \\hat{a}_3^\\dagger\\hat{a}_3^\\dagger \\right)|0\\rangle_2|0\\rangle_3 \\\\\n",
        "&= \\frac{i}{\\sqrt{2}} \\left( |2\\rangle_2|0\\rangle_3 + |0\\rangle_2|2\\rangle_3 \\right).\n",
        "\\end{align*}\n",
        "\n",
        "- Apparently, the two photons emerge together such that photodetectors placed at the output beams should not register simultaneous counts.\n",
        "- In single photon beam splitting, obtaining no simultaneous counts was due to **particle-like** nature. But here, no simultaneous counts is due to interference or wave like nature."
      ]
    },
    {
      "cell_type": "markdown",
      "id": "1d0e8a7c-9768-4b85-a833-f4df1032be25",
      "metadata": {
        "id": "1d0e8a7c-9768-4b85-a833-f4df1032be25"
      },
      "source": [
        "![Screenshot 2025-03-30 135152.png](attachment:e3cc2a84-5cd7-492b-806c-5014d681ff61.png)\n",
        "##### Figure 6. Two indistinguishable processes with simultaneous single photon inputs. (a) Both photons are transmitted. (b) Both photons are reflected. These processes interfere destructively with each other"
      ]
    },
    {
      "cell_type": "markdown",
      "id": "392caf71-9d7a-41f9-b3b3-53147a154937",
      "metadata": {
        "id": "392caf71-9d7a-41f9-b3b3-53147a154937"
      },
      "source": [
        "#### Binomial Distribution of N photons (Coherent state) over two modes due to BS"
      ]
    },
    {
      "cell_type": "markdown",
      "id": "c7df4e1f-cfb3-48ea-9a85-604f19fa1932",
      "metadata": {
        "id": "c7df4e1f-cfb3-48ea-9a85-604f19fa1932"
      },
      "source": [
        "We now reconstruct the case of the vacuum and coherent state incident to a beam splitter as given in Eq. (21). We expand the product state $\\ket{0}_0\\ket{\\alpha}_1$ as\n",
        "\n",
        "\\begin{equation}\n",
        "\\ket{\\mathrm{in}} = \\ket{0}_0\\ket{\\alpha}_1 = e^{-|\\alpha|^2/2} \\sum_{N=0}^{\\infty} \\frac{\\alpha^N}{\\sqrt{N!}} \\ket{0}_0\\ket{N}_1 \\tag{22}\n",
        "\\end{equation}\n",
        "\n",
        "where it is evident that we have a superposition of the product states $\\ket{0}_0\\ket{N}_1$. Because the beam splitter conserves the total number of photons, we should be able to take the expansion for the product state in the last line of Eq. (21) and by partitioning it into sectors of total photon numbers $N$, deduce the beam-splitter transformation for the input states $\\ket{0}_0\\ket{N}_1$. We write\n",
        "\n",
        "\\begin{equation}\n",
        "\\ket{\\mathrm{out}} = \\left| \\frac{i \\alpha}{\\sqrt{2}} \\right\\rangle_2 \\left| \\frac{\\alpha}{\\sqrt{2}} \\right\\rangle_3 = e^{-|\\alpha|^2/2} \\sum_{n=0}^{\\infty} \\sum_{m=0}^{\\infty} \\frac{(i \\alpha/\\sqrt{2})^n (\\alpha/\\sqrt{2})^m}{\\sqrt{n! m!}} \\ket{n}_2 \\ket{m}_3, \\tag{23}\n",
        "\\end{equation}\n",
        "\n",
        "and setting $m = N - n$ we have, after some rearrangement,\n",
        "\n",
        "\\begin{equation}\n",
        "\\ket{\\mathrm{out}} = e^{-|\\alpha|^2/2} \\sum_{N=0}^{\\infty} \\frac{\\alpha^N}{\\sqrt{N!}} \\ket{\\psi_N}_{2,3}, \\tag{24}\n",
        "\\end{equation}\n",
        "\n",
        "where\n",
        "\n",
        "\\begin{equation}\n",
        "\\ket{\\psi_N}_{2,3} = \\frac{1}{2^{N/2}} \\sum_{n=0}^{N} i^n \\left[ \\frac{N!}{n!(N-n)!} \\right]^{1/2} \\ket{n}_2 \\ket{N-n}_3. \\tag{25}\n",
        "\\end{equation}\n",
        "\n",
        "Thus it follows that the beam splitter causes the transformation $\\ket{0}_0\\ket{N}_1 \\rightarrow \\ket{\\psi_N}_{2,3}$. The state $\\ket{\\psi_N}_{2,3}$ is a binomial state in that $N$ photons are binomially distributed over the two modes."
      ]
    },
    {
      "cell_type": "markdown",
      "id": "dcd472f4-ba2f-45d9-857d-9ebce9fceb7e",
      "metadata": {
        "id": "dcd472f4-ba2f-45d9-857d-9ebce9fceb7e"
      },
      "source": [
        "### Experimental Demonstration of Single-Photon Quantum Behavior: Anticorrelation and Wave-Particle Duality\n",
        "\n",
        "The quantum nature of light has been a subject of intense investigation since the early 20th century. While classical electrodynamics describes light as a continuous electromagnetic wave, quantum mechanics introduces the concept of photons - discrete packets of energy that exhibit both wave-like and particle-like properties. This report examines two groundbreaking experiments by Grangier, Roger, and Aspect that conclusively demonstrate quantum behavior at the single-photon level. The first experiment provides definitive evidence for photon anticorrelation at a beam splitter, violating classical wave predictions. As Grangier et al. state in their 1986 paper: \"quantum mechanics predicts a perfect anticorrelation for photodetections on both sides of the beam splitter (a single-photon can only be detected once!), while any description involving classical fields would predict some amount of coincidences.\" This result fundamentally challenges classical wave descriptions of light. The second experiment demonstrates high-visibility interference fringes (more than 98%) in a Mach-Zehnder interferometer using triggered single photons, establishing the wave-like behavior of individual photons. Together, these experiments provide a comprehensive demonstration of wave-particle duality at the single quantum level."
      ]
    },
    {
      "cell_type": "markdown",
      "id": "192acb2c-2245-4769-9ad1-928b168c4123",
      "metadata": {
        "id": "192acb2c-2245-4769-9ad1-928b168c4123"
      },
      "source": [
        "## Photon Anticorrelation Experiment\n",
        "\n",
        "### Theoretical Background\n",
        "The anticorrelation experiment addresses a fundamental question in quantum optics: what happens when a single photon encounters a beam splitter? Classical wave theory predicts that the light wave divides at the beam splitter, resulting in simultaneous detection events (\"coincidences\") at both output ports. In contrast, quantum theory predicts that the photon must choose one path or the other, resulting in perfect anticorrelation—zero coincident detections. As emphasized in the LMI Paper: \"The violation of inequality $p_c \\geq p_r p_t$ gives an 'anticorrelation' criterion, for characterizing a nonclassical behaviour.\" This inequality represents the classical lower bound for coincidence counts that any wave theory must satisfy."
      ]
    },
    {
      "cell_type": "markdown",
      "id": "51643eff-f56a-4e1e-8800-bf2d0df0a675",
      "metadata": {
        "id": "51643eff-f56a-4e1e-8800-bf2d0df0a675"
      },
      "source": [
        "### Experimental Setup\n",
        "The experimental apparatus (shown in Figure 2) used:\n",
        "- An atomic cascade source producing photon pairs ($\\nu_1$ and $\\nu_2$)\n",
        "- A triggered detection scheme where detection of $\\nu_1$ opens a gate for $\\nu_2$\n",
        "- Two photomultipliers (PMt and PMr) monitoring both outputs of a beam splitter\n",
        "- Precise timing electronics with gate width $w \\approx 9 \\text{ns}$\n",
        "\n",
        "![Screenshot 2025-03-30 154417.png](attachment:43a3d4e2-1cc5-4997-8d38-d721adb074c6.png)\n",
        "##### Figure 7. Triggered experiment. The detection of the first photon of the cascade produces a gate w, during which the photomultipliers $PM_t$ and $PM_r$ are active. The probabilities of detection during the gate are $p_t$ = $Nt/N1$, $p_r$ = $N_r/N_1$ for singles, and $p_c$ = $N_c/N_1$ for coincidences.\n",
        "### Key Results\n",
        "The experiment yielded several conclusive findings:\n",
        "- The measured anticorrelation parameter was $\\alpha = 0.18 \\pm 0.06$, violating the classical limit of $\\alpha \\geq 1$ by more than 13 standard deviations\n",
        "- The coincidence rate was five times lower than the classical lower bound\n",
        "- For the critical measurement point:\n",
        "  - Total counting time: 5 hours\n",
        "  - Trigger rate $N_1 \\approx 8800 \\text{s}^{-1}$ (including dark rate)\n",
        "  - Expected classical coincidences: $\\geq 50$\n",
        "  - Observed coincidences: 9\n",
        "\n",
        "As stated in the original paper: \"Hence the light emitted after each 'triggering' pulse has been shown to exhibit a specifically quantum anti-correlation behaviour.\" This result provides unambiguous evidence for the particle-like nature of single photons."
      ]
    },
    {
      "cell_type": "markdown",
      "id": "9488fc53-72b8-4e76-bc54-bc1ca32fc4eb",
      "metadata": {
        "id": "9488fc53-72b8-4e76-bc54-bc1ca32fc4eb"
      },
      "source": [
        "### Single-Photon Interference\n",
        "\n",
        "### Theoretical Framework\n",
        "The Mach-Zehnder interferometer (MZI) demonstrates the complementary wave-like behavior of single photons. The key requirement for observing interference is the elimination of \"which path\" information - the detectors must be unable to determine which path (clockwise or counter-clockwise) the photon took through the interferometer. The quantum state evolution in the MZI can be described as follows:\n",
        "\n",
        "$$\n",
        "|0\\rangle|1\\rangle \\xrightarrow{\\text{BS1}} \\frac{1}{\\sqrt{2}}(|0\\rangle|1\\rangle + i|1\\rangle|0\\rangle)\n",
        "$$\n",
        "$$\n",
        "\\xrightarrow{\\theta} \\frac{1}{\\sqrt{2}}(e^{i\\theta}|0\\rangle|1\\rangle + i|1\\rangle|0\\rangle)\n",
        "$$\n",
        "$$\n",
        "\\xrightarrow{\\text{BS2}} \\frac{1}{2}[(e^{i\\theta} - 1)|0\\rangle|1\\rangle + i(e^{i\\theta} + 1)|1\\rangle|0\\rangle)]\n",
        "$$\n",
        "\n",
        "This leads to the detection probabilities:\n",
        "$$\n",
        "P_{01} = \\frac{1}{2}(1 - \\cos \\theta) \\quad (\\text{D2 fires}) \\tag{26}\n",
        "$$\n",
        "$$\n",
        "P_{10} = \\frac{1}{2}(1 + \\cos \\theta) \\quad (\\text{D1 fires}) \\tag{27}\n",
        "$$\n",
        "\n",
        "#### Experimental Observations\n",
        "The interference experiment showed remarkable results:\n",
        "- Fringe visibility exceeding 98%, demonstrating high-quality interference\n",
        "- Clear $\\cos \\theta$ dependence of detection probabilities\n",
        "- Results consistent across multiple measurement runs\n",
        "\n",
        "Observed interference fringes showing the $\\cos \\theta$ dependence of detection probabilities. The visibility $V = (N_{\\text{max}} - N_{\\text{min}})/(N_{\\text{max}} + N_{\\text{min}})$ exceeds 98%, where $N_{\\text{max}}$ and $N_{\\text{min}}$ are the maximum and minimum counting rates at output MZ1."
      ]
    },
    {
      "cell_type": "markdown",
      "id": "96429041-dc89-41b2-b0ec-ad28ec59f778",
      "metadata": {
        "id": "96429041-dc89-41b2-b0ec-ad28ec59f778"
      },
      "source": [
        "![Screenshot 2025-03-30 154603.png](attachment:a5c69f7e-4bd4-49ea-a6b0-d6964954e036.png)\n",
        "##### Figure 8. Plot of Detection Probability vs Pahse Shift ($\\theta$)"
      ]
    },
    {
      "cell_type": "markdown",
      "id": "a4fbd838-f924-4564-9e0d-ce8b02cce0e0",
      "metadata": {
        "id": "a4fbd838-f924-4564-9e0d-ce8b02cce0e0"
      },
      "source": [
        "The experiments by Grangier et al. provide a comprehensive demonstration of single-photon quantum behavior:\n",
        "- The anticorrelation experiment ($\\alpha = 0.18 \\pm 0.06$) conclusively violates classical wave predictions, demonstrating particle-like behavior\n",
        "- The MZI interference experiment shows $\\geq 98\\%$ visibility fringes, confirming wave-like behavior\n",
        "- Together, they provide a complete picture of wave-particle duality at the single-photon level\n",
        "\n",
        "As the authors note: \"Two triggered experiments have thus been performed, using the same source and the same triggering scheme for the detectors. They illustrate the wave-particle duality of light.\" These experiments remain foundational demonstrations of quantum optics principles."
      ]
    },
    {
      "cell_type": "markdown",
      "id": "e3c33d47-6c56-404c-a5f4-4b87c823d948",
      "metadata": {
        "id": "e3c33d47-6c56-404c-a5f4-4b87c823d948"
      },
      "source": [
        "## Interaction Free Measurement"
      ]
    },
    {
      "cell_type": "markdown",
      "id": "826d1db2-4686-4008-98c0-dd252856de46",
      "metadata": {
        "id": "826d1db2-4686-4008-98c0-dd252856de46"
      },
      "source": [
        "Normally, to detect an object, we expect at least one particle (such as a photon) to hit it and bounce back toward a detector. However, quantum mechanics allows for a strange scenario where we can detect the presence of an object without ever interacting with it!\n",
        "\n",
        "This concept was first proposed by Elitzur and Vaidman and was later experimentally confirmed by Kwiat and his team. It is demonstrated using a Mach–Zehnder Interferometer (MZI).\n"
      ]
    },
    {
      "cell_type": "markdown",
      "id": "9203fece-a527-42fc-b4b3-7b5d8231665e",
      "metadata": {
        "id": "9203fece-a527-42fc-b4b3-7b5d8231665e"
      },
      "source": [
        "### Mach-Zehnder Interferometer (MZI) – Basic Setup\n",
        "Mach-Zehnder Interferometer (MZI) – Basic Setup\n",
        "The MZI is an optical device used to study the behaviour of light (photons) in quantum mechanics. It consists of:\n",
        "- Two Beam Splitters (BS1 and BS2): These devices split incoming light into two paths with equal probability.\n",
        "- Two Mirrors (M1 and M2): These reflect the light to guide it through the setup.\n",
        "- Two Detectors (D1 and D2): These detect the photons at the end of their paths."
      ]
    },
    {
      "cell_type": "markdown",
      "id": "c3dff287-f6d9-44e6-a140-b8fa65621e66",
      "metadata": {
        "id": "c3dff287-f6d9-44e6-a140-b8fa65621e66"
      },
      "source": [
        "![Screenshot 2025-03-30 153113.png](attachment:82968208-d8a7-45d5-a108-41e462eceeb3.png)\n",
        "##### Figure 9. Experimental set for interaction free-measurement. A Mach–Zehnder interferometer contains an object, the shaded ellipse, in one arm."
      ]
    },
    {
      "cell_type": "markdown",
      "id": "12019528-11ce-4325-b7b4-56603f8fad1b",
      "metadata": {
        "id": "12019528-11ce-4325-b7b4-56603f8fad1b"
      },
      "source": [
        "#### Step 1: No Object Present\n",
        "\n",
        "- A single photon enters the interferometer.\n",
        "- BS1 splits the photon into two possible paths:\n",
        "- 50% chance it takes the clockwise path.\n",
        "- 50% chance it takes the counter-clockwise path.\n",
        "- The two paths interfere with each other at BS2,\n",
        "creating constructive and destructive interference.\n",
        "- Due to interference, the photon always goes to detector D1, and D2 never fires.\n",
        "\n",
        "#### Thus, when no object is present, D1 detects the photon 100% of the time."
      ]
    },
    {
      "cell_type": "markdown",
      "id": "aa89e2c0-26b1-4244-8b55-76dfb483fd91",
      "metadata": {
        "id": "aa89e2c0-26b1-4244-8b55-76dfb483fd91"
      },
      "source": [
        "Now, we introduce an object in the counter-clockwise path of the interferometer. This changes the behavior:"
      ]
    },
    {
      "cell_type": "markdown",
      "id": "3cc55635-6703-477f-ae18-daeffeb44cbc",
      "metadata": {
        "id": "3cc55635-6703-477f-ae18-daeffeb44cbc"
      },
      "source": [
        "#### Step 2: Photon Encounters the Object\n",
        "- The photon might take the counter-clockwise path, but if it does, it hits the object and is absorbed or scattered (so it never reaches the second beam splitter BS2).\n",
        "- If the photon takes the clockwise path, it reaches BS2 and splits again, with a 50% chance of going to D1 and 50% chance of going to D2."
      ]
    },
    {
      "cell_type": "markdown",
      "id": "9e7c8786-3e53-4006-9ca7-934f57183704",
      "metadata": {
        "id": "9e7c8786-3e53-4006-9ca7-934f57183704"
      },
      "source": [
        "##### •\t50% of the time, the photon hits the object and is absorbed. Neither D1 nor D2 fire.\n",
        "##### •\t25% of the time, the photon takes the clockwise path and ends up at D1.\n",
        "##### •\t25% of the time, the photon takes the clockwise path and ends up at D2."
      ]
    },
    {
      "cell_type": "markdown",
      "id": "24b4878c-3b34-4aef-a106-e3402672d8e7",
      "metadata": {
        "id": "24b4878c-3b34-4aef-a106-e3402672d8e7"
      },
      "source": [
        "#### Observations :\n",
        "- Normally, D2 never fires when no object is present.\n",
        "- But if D2 fires, we know for sure that there is an object in the interferometer.\n",
        "- The incredible part is that this detection happens without the photon actually interacting with the object (since the photon that reached D2 took the other path and never touched the object).\n"
      ]
    },
    {
      "cell_type": "markdown",
      "id": "99dfb493-bbfa-47d6-b3f1-82d2db053f3f",
      "metadata": {
        "id": "99dfb493-bbfa-47d6-b3f1-82d2db053f3f"
      },
      "source": [
        "#### Why Is This So Weird?\n",
        "This means we detect the object's presence without scattering a single photon off it. It contradicts classical intuition, where detecting an object requires some interaction with it.\n",
        "This effect is an example of quantum nonlocality, where quantum systems behave in ways that seem to defy common sense. It is similar to phenomena like:\n",
        "- The Aharonov-Bohm Effect, where electrons are affected by a magnetic field even if they never directly encounter it.\n",
        "- The violation of Bell's inequalities, which shows that quantum particles are entangled in ways that defy classical physics.\n"
      ]
    },
    {
      "cell_type": "markdown",
      "id": "b49a15b6-4589-4125-9ac3-e11d9df004eb",
      "metadata": {
        "id": "b49a15b6-4589-4125-9ac3-e11d9df004eb"
      },
      "source": [
        "#### Real-World Applications :\n",
        "- Quantum imaging: Detecting objects with minimal exposure to light (useful in sensitive biological samples).\n",
        "- Quantum computing: Detecting quantum states without disturbing them too much.\n",
        "- Explosives detection: The original proposal was for detecting highly sensitive bombs that would explode upon absorbing a single photon."
      ]
    },
    {
      "cell_type": "markdown",
      "id": "d3534c54-4e6f-4497-89be-b7bee8c50e7f",
      "metadata": {
        "id": "d3534c54-4e6f-4497-89be-b7bee8c50e7f"
      },
      "source": [
        "### Interferometry with Coherent states of light\n",
        "\n",
        "Why Coherent States?\n",
        "\n",
        " - Coherent states behave most like classical light waves (with well-defined amplitude and phase).\n",
        " - They are easy to generate using lasers and exhibit minimal uncertainty in the phase and amplitude quadratures.\n",
        " - Quantum Noise: Despite their classical resemblance, coherent states still exhibit quantum uncertainty.\n",
        "\n",
        "Earlier, we looked at interferometry using a single photon, where quantum effects were most important. Now, we’ll explore the other extreme, where we assume the light is in a coherent state (like regular light, such as from a laser). In this case, the result should be very similar to what we would expect from classical physics.\n",
        "\n",
        "Imagine we have a Mach-Zehnder Interferometer (MZI) setup. We begin with a coherent state of light in one mode (a beam of light, for example). When the light passes through the first beam splitter (BS1), it splits into two parts, each with a different probability amplitude, as shown by this equation:\n",
        "\n",
        "\n",
        "\n",
        "$$\n",
        "|0\\rangle | \\alpha \\rangle \\xrightarrow{\\text{BS}_1} \\left| \\frac{i\\alpha}{\\sqrt{2}} \\right\\rangle \\left| \\frac{\\alpha}{\\sqrt{2}} \\right\\rangle\n",
        "$$\n",
        "\n",
        "\n",
        "\n",
        "A 50:50 beam splitter transforms the input modes $\\hat{a}$ and $\\hat{b}$ as follows:\n",
        "\n",
        "$$\n",
        "\\hat{a} \\rightarrow \\frac{1}{\\sqrt{2}} (\\hat{a} + i\\hat{b}), \\quad \\hat{b} \\rightarrow \\frac{1}{\\sqrt{2}} (i\\hat{a} + \\hat{b})\n",
        "$$\n",
        "\n",
        "\n",
        "Next, there’s a phase shifter in one of the arms of the interferometer. It introduces a phase change, which affects how the two parts of the light interfere with each other. This phase shift is represented by the following equation:\n",
        "\n",
        "\n",
        "$$\n",
        "\\left| \\frac{i\\alpha}{\\sqrt{2}} \\right\\rangle \\left| \\frac{\\alpha}{\\sqrt{2}} \\right\\rangle \\xrightarrow{\\theta} \\left| \\frac{i\\alpha e^{i\\theta}}{\\sqrt{2}} \\right\\rangle \\left| \\frac{\\alpha}{\\sqrt{2}} \\right\\rangle\n",
        "$$\n",
        "\n",
        "Finally, when the light reaches the second beam splitter (BS2), it splits again, and the transformation looks like this:\n",
        "\n",
        "\n",
        "$$\n",
        "\\left| \\frac{i e^{i\\theta} \\alpha}{\\sqrt{2}} \\right\\rangle \\left| \\frac{\\alpha}{\\sqrt{2}} \\right\\rangle \\xrightarrow{\\text{BS}_2} \\left| \\frac{i (e^{i\\theta} + 1) \\alpha}{\\sqrt{2}} \\right\\rangle \\left| \\frac{(e^{i\\theta} - 1) \\alpha}{\\sqrt{2}} \\right\\rangle \\tag{33}\n",
        "$$\n",
        "\n",
        "\n",
        "Now, in an experiment measuring the phase shift, the shift is determined by comparing the intensities (or brightness) of the light detected by two detectors, D1 and D2. The difference in intensity gives us information about the phase shift. We can mathematically describe this difference using the operators for the two modes of light. **Coherent states** provide good phase sensitivity but are limited by quantum fluctuations.\n"
      ]
    },
    {
      "cell_type": "markdown",
      "id": "dc48f601-10a5-4c89-914b-09b73ed88a53",
      "metadata": {
        "id": "dc48f601-10a5-4c89-914b-09b73ed88a53"
      },
      "source": [
        "### Phase Uncertainty Derivation\n",
        "\n",
        "We start with the **phase uncertainty** $( \\Delta \\theta )$ formula derived from error propagation.\n",
        "\n",
        "#### Error Propagation Formula\n",
        "\n",
        "The uncertainty in the phase measurement is given by the general error propagation formula:\n",
        "\n",
        "$$\n",
        "\\Delta \\theta = \\frac{\\Delta O}{\\left| \\frac{\\partial \\langle \\hat{O} \\rangle}{\\partial \\theta} \\right|} \\tag{28}\n",
        "$$\n",
        "\n",
        "Where:\n",
        "- $O$ is the observable (photon number difference),\n",
        "- $\\langle \\hat{O} \\rangle$ is the expectation value of $O$,\n",
        "- $\\Delta O$ is the uncertainty (standard deviation) of $O$.\n",
        "\n",
        "#### Derivative of the Expectation Value\n",
        "\n",
        "The expectation value O for the **photon number difference** is:\n",
        "\n",
        "$$\n",
        "\\langle \\hat{O} \\rangle = |\\alpha|^2 \\cos \\theta \\tag{29}\n",
        "$$\n",
        "\n",
        "Where:\n",
        "-  $\\alpha$-is the amplitude of the coherent state,\n",
        "-  $\\theta$-is the phase shift.\n",
        "\n",
        "We now take the derivative of\n",
        "$$\n",
        "\\frac{\\partial \\langle \\hat{O} \\rangle}{\\partial \\theta} = -\\bar{n} \\sin \\theta \\tag{30}\n",
        "$$\n",
        "\n",
        "Where $n=∣\\alpha∣^2$ is the mean photon number.\n",
        "\n",
        "#### Phase Uncertainty Formula\n",
        "\n",
        "Using error propagation, we get the final phase uncertainty:\n",
        "\n",
        "$$\n",
        "\\Delta \\theta = \\frac{1}{\\sqrt{\\bar{n}} |\\sin \\theta|} \\tag{31}\n",
        "$$\n",
        "\n",
        "Finally, the **minimum uncertainty** is:\n",
        "\n",
        "$$\n",
        "\\Delta \\theta_{\\text{min}} = \\frac{1}{\\sqrt{\\bar{n}}} \\tag{32}\n",
        "$$"
      ]
    },
    {
      "cell_type": "markdown",
      "id": "90643bcb-b62a-4d54-9589-6eed56c97357",
      "metadata": {
        "id": "90643bcb-b62a-4d54-9589-6eed56c97357"
      },
      "source": [
        "![Screenshot 2025-03-30 151102.png](attachment:a6bbe0cb-4969-4e98-9c95-1d814b8050aa.png)\n",
        "##### Figure 10. Plot of Phase Uncertainty vs Mean Photon Number"
      ]
    },
    {
      "cell_type": "markdown",
      "id": "3ca32948-0634-4080-9f8c-9a8ddae1020a",
      "metadata": {
        "id": "3ca32948-0634-4080-9f8c-9a8ddae1020a"
      },
      "source": [
        "### References\n",
        "- Introductory Quantum Optics (Chapter 6), C.C Gerry and Peter Knight\n",
        "- Experimental Evidence for a Photon Anticorrelation Effect on a Beam Splitter: A New Light on Single-Photon Interferences. P. GRANGIER, G. ROGER and A. ASPECT, Institut d’0ptique Thhorique et Appliquhe, B.P. 43 - F 91406 Orsay, France"
      ]
    }
  ],
  "metadata": {
    "kernelspec": {
      "display_name": "Python 3 (ipykernel)",
      "language": "python",
      "name": "python3"
    },
    "language_info": {
      "codemirror_mode": {
        "name": "ipython",
        "version": 3
      },
      "file_extension": ".py",
      "mimetype": "text/x-python",
      "name": "python",
      "nbconvert_exporter": "python",
      "pygments_lexer": "ipython3",
      "version": "3.10.12"
    },
    "colab": {
      "provenance": []
    }
  },
  "nbformat": 4,
  "nbformat_minor": 5
}